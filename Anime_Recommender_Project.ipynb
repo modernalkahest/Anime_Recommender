{
 "cells": [
  {
   "cell_type": "code",
   "execution_count": 3,
   "id": "cb5ce2d4-2861-4f44-be09-1889b3640d78",
   "metadata": {},
   "outputs": [
    {
     "name": "stdin",
     "output_type": "stream",
     "text": [
      "What was the name of the latest anime you watched?  Demon Slayer\n"
     ]
    },
    {
     "name": "stdout",
     "output_type": "stream",
     "text": [
      "0.Demon Slayer: Kimetsu no Yaiba\n",
      "1.Demon Slayer: Kimetsu no Yaiba - Mugen Train\n",
      "2.Demon Slayer: Kimetsu no Yaiba - Entertainment District Arc\n",
      "3.Demon Slayer: Kimetsu no Yaiba Movie - Mugen Train\n",
      "4.Goblin Slayer\n"
     ]
    },
    {
     "name": "stdin",
     "output_type": "stream",
     "text": [
      "Seems like there are multiple animes with this title. Choose a number from 0 to 4 to confirm which anime you meant: 0\n"
     ]
    },
    {
     "name": "stdout",
     "output_type": "stream",
     "text": [
      "\n",
      "\n",
      "Recommended to watch next:\n",
      "\n",
      "\n",
      "1. Yona of the Dawn: Zeno Arc\n",
      "\n",
      "2. Fullmetal Alchemist: Brotherhood Specials\n",
      "\n",
      "3. Rave Master\n",
      "\n",
      "4. Hunter x Hunter\n",
      "\n",
      "5. JoJo's Bizarre Adventure (2000)\n",
      "\n"
     ]
    }
   ],
   "source": [
    "import pandas as pd\n",
    "import numpy as np\n",
    "from warnings import filterwarnings\n",
    "from sklearn.feature_extraction.text import TfidfVectorizer\n",
    "from sklearn.metrics.pairwise import cosine_similarity\n",
    "\n",
    "filterwarnings('ignore')\n",
    "#loading the data set\n",
    "anime = pd.read_csv('Anime.csv')\n",
    "Ratings = anime[['Name','Type','Studio','Rating','Tags']]\n",
    "\n",
    "#Finding null values and replacing them\n",
    "Ratings['Studio']=Ratings['Studio'].fillna('Unknown')\n",
    "Ratings['Tags']=Ratings['Tags'].fillna('Unknown')\n",
    "\n",
    "#Encoding the categorical variable Studio\n",
    "encoder = dict([(j,i) for i,j in enumerate(Ratings['Studio'].value_counts().index)])\n",
    "Ratings.set_index('Name',inplace=True)\n",
    "Ratings['Studio'] = Ratings.apply(lambda row: encoder[row['Studio']],axis=1)\n",
    "\n",
    "#Encoding the categorical variable Type\n",
    "Type_encoder = dict([(j,i) for i,j in enumerate(Ratings['Type'].unique())])\n",
    "Ratings['Type'] = Ratings.apply(lambda row: Type_encoder[row['Type']],axis=1)\n",
    "\n",
    "\n",
    "#Taking user input\n",
    "anime_watched = input(\"What was the name of the latest anime you watched? \")\n",
    "\n",
    "#finding closest matches to user input\n",
    "def cosine_sim(str1, str2):\n",
    "    str1 = str1.lower()\n",
    "    str2 = str2.lower()\n",
    "    vectorizer = TfidfVectorizer().fit_transform([str1, str2])\n",
    "    vectors = vectorizer.toarray()\n",
    "    return cosine_similarity(vectors)[0, 1]\n",
    "\n",
    "if anime_watched not in Ratings.index:\n",
    "    matches = anime['Name'].apply(lambda x: cosine_sim(anime_watched,x))\n",
    "    matches.index = anime['Name']\n",
    "    matches = matches.sort_values(ascending=False)\n",
    "    matches = matches.to_frame()\n",
    "    match_list = list(enumerate(matches.head().index))\n",
    "    for i, j in match_list:\n",
    "        print(f'{i}.{j}')\n",
    "\n",
    "    match_list_dict = dict(match_list)\n",
    "    choice = int(input('Seems like there are multiple animes with this title. Choose a number from 0 to 4 to confirm which anime you meant:'))\n",
    "    anime_watched =match_list_dict[choice]\n",
    "\n",
    "#Isolating the features on which recommendations should be given\n",
    "Anime_SR = Ratings[['Studio','Rating']]\n",
    "\n",
    "#Finding similarities between user input title and existing database\n",
    "Cos_Similarity = Anime_SR.apply(lambda row: np.dot(Anime_SR.loc[anime_watched],row)/(np.linalg.norm(Anime_SR.loc[anime_watched])*np.linalg.norm(row)),axis=1)\n",
    "\n",
    "#Converting to Dataframe\n",
    "Cos = Cos_Similarity.to_frame()\n",
    "\n",
    "Anime_Tags = Ratings['Tags']\n",
    "\n",
    "#Adding columns to the dataframe\n",
    "Cos.columns = ['Cosine Similarity']\n",
    "Cos['Tag Similarity'] = Anime_Tags.apply(lambda row: cosine_sim(Anime_Tags.loc[anime_watched],row))\n",
    "\n",
    "#Sorting recommendations by Cosine similarity\n",
    "Recommendation = Cos[(Cos['Cosine Similarity']>0.5)&(Cos['Tag Similarity']>0.5)].sort_values(by='Tag Similarity',ascending=False)\n",
    "\n",
    "#Getting top 5 recommendations from the entire dataframe\n",
    "recommended_n = Recommendation\n",
    "\n",
    "recommendation_list = list(recommended_n.index)\n",
    "if anime_watched in recommendation_list:\n",
    "    recommendation_list.remove(anime_watched)\n",
    "\n",
    "recommendations = []\n",
    "\n",
    "for i in recommendation_list:\n",
    "    if cosine_sim(anime_watched,i)>0:\n",
    "        continue\n",
    "\n",
    "    else:\n",
    "        recommendations.append(i)\n",
    "print('\\n\\nRecommended to watch next:\\n\\n')\n",
    "for i,j in enumerate(recommendations):\n",
    "    related_anime = anime[anime['Name']==j]['Related_anime']\n",
    "    print(f'{i+1}. {j}\\n')"
   ]
  },
  {
   "cell_type": "code",
   "execution_count": 4,
   "id": "547bff9f-78a2-4175-8598-07f4c2735eb5",
   "metadata": {},
   "outputs": [
    {
     "name": "stdout",
     "output_type": "stream",
     "text": [
      "zsh:1: command not found: django-admin\n",
      "zsh:cd:1: no such file or directory: myproject\n",
      "python: can't open file '/Users/mohithemaprasad/Desktop/Personal Anime rating Project/manage.py': [Errno 2] No such file or directory\n"
     ]
    }
   ],
   "source": [
    "!django-admin startproject myproject\n",
    "!cd myproject\n",
    "!python manage.py startapp myapp"
   ]
  },
  {
   "cell_type": "code",
   "execution_count": null,
   "id": "47280741-03b9-4ec3-896d-1959e0a7481e",
   "metadata": {},
   "outputs": [],
   "source": []
  }
 ],
 "metadata": {
  "kernelspec": {
   "display_name": "Python 3 (ipykernel)",
   "language": "python",
   "name": "python3"
  },
  "language_info": {
   "codemirror_mode": {
    "name": "ipython",
    "version": 3
   },
   "file_extension": ".py",
   "mimetype": "text/x-python",
   "name": "python",
   "nbconvert_exporter": "python",
   "pygments_lexer": "ipython3",
   "version": "3.11.5"
  }
 },
 "nbformat": 4,
 "nbformat_minor": 5
}
